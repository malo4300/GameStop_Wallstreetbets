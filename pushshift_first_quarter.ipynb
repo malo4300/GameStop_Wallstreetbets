{
 "cells": [
  {
   "cell_type": "code",
   "execution_count": 1,
   "id": "440c54ba",
   "metadata": {},
   "outputs": [],
   "source": [
    "from psaw import PushshiftAPI \n",
    "import datetime as dt\n",
    "import pandas as pd\n",
    "import time"
   ]
  },
  {
   "cell_type": "code",
   "execution_count": 3,
   "id": "d86dfdaa",
   "metadata": {},
   "outputs": [],
   "source": [
    "api = PushshiftAPI()"
   ]
  },
  {
   "cell_type": "code",
   "execution_count": null,
   "id": "5d16b20f",
   "metadata": {},
   "outputs": [],
   "source": []
  },
  {
   "cell_type": "code",
   "execution_count": 4,
   "id": "a8b72e3e",
   "metadata": {},
   "outputs": [
    {
     "name": "stdout",
     "output_type": "stream",
     "text": [
      "0\n",
      "1\n",
      "2\n",
      "3\n",
      "4\n",
      "5\n",
      "6\n",
      "7\n",
      "8\n",
      "9\n",
      "10\n",
      "11\n",
      "12\n",
      "13\n",
      "14\n",
      "15\n",
      "16\n",
      "17\n",
      "18\n",
      "19\n"
     ]
    },
    {
     "name": "stderr",
     "output_type": "stream",
     "text": [
      "D:\\Anaconda\\lib\\site-packages\\psaw\\PushshiftAPI.py:192: UserWarning: Got non 200 code 429\n",
      "  warnings.warn(\"Got non 200 code %s\" % response.status_code)\n",
      "D:\\Anaconda\\lib\\site-packages\\psaw\\PushshiftAPI.py:180: UserWarning: Unable to connect to pushshift.io. Retrying after backoff.\n",
      "  warnings.warn(\"Unable to connect to pushshift.io. Retrying after backoff.\")\n"
     ]
    },
    {
     "name": "stdout",
     "output_type": "stream",
     "text": [
      "20\n",
      "21\n",
      "22\n",
      "23\n",
      "24\n",
      "25\n",
      "26\n",
      "27\n",
      "28\n",
      "29\n",
      "30\n",
      "31\n",
      "32\n",
      "33\n",
      "leer\n",
      "leer\n",
      "36\n",
      "37\n",
      "38\n",
      "39\n",
      "40\n",
      "41\n",
      "42\n",
      "43\n",
      "44\n",
      "45\n",
      "46\n",
      "47\n",
      "48\n",
      "49\n",
      "50\n",
      "51\n",
      "52\n",
      "53\n",
      "54\n",
      "55\n",
      "56\n",
      "57\n",
      "leer\n",
      "59\n",
      "60\n",
      "61\n",
      "62\n",
      "leer\n",
      "64\n",
      "65\n",
      "66\n",
      "67\n",
      "68\n",
      "69\n",
      "70\n",
      "71\n",
      "72\n",
      "73\n",
      "74\n",
      "leer\n",
      "leer\n",
      "leer\n",
      "leer\n",
      "leer\n",
      "leer\n",
      "leer\n",
      "leer\n",
      "leer\n",
      "84\n",
      "85\n",
      "86\n",
      "87\n",
      "88\n",
      "89\n"
     ]
    }
   ],
   "source": [
    "df = pd.DataFrame()\n",
    "\n",
    "for i in range(0,90):\n",
    "    dt_1 = dt.datetime(2021,1,1)+dt.timedelta(days  = i+1)\n",
    "    dt_2 = dt.datetime(2021,1,1)+dt.timedelta(days  = i+2)\n",
    "    posts = list(api.search_submissions(subreddit = 'wallstreetbets',\n",
    "                                        q = 'GME',\n",
    "                                        num_comments = '<100' ,\n",
    "                                        after = dt_1,\n",
    "                                        before = dt_2,\n",
    "                                        filter = ['id', 'url', 'num_comments', 'score'],\n",
    "                                        \n",
    "                                       ))\n",
    "    if(not posts):\n",
    "        print(\"leer\")\n",
    "        continue\n",
    "    df_temp = pd.DataFrame(posts)\n",
    "    df = df.append(df_temp)\n",
    "    print(i)\n",
    "    time.sleep(2)\n",
    "    \n"
   ]
  },
  {
   "cell_type": "code",
   "execution_count": 5,
   "id": "e188c2ca",
   "metadata": {},
   "outputs": [],
   "source": [
    "df = df[df['num_comments']>2]"
   ]
  },
  {
   "cell_type": "code",
   "execution_count": 162,
   "id": "e3772170",
   "metadata": {},
   "outputs": [],
   "source": [
    "#posts = list(api.search_submissions(subreddit = 'wallstreetbets',\n",
    "#                                    q = 'GME',\n",
    "#                                    after = int(dt.datetime(2021,1,1).timestamp()),\n",
    "#                                    before = int(dt.datetime(2021,1,31).timestamp()), \n",
    "#                                    filter = ['id', 'url', 'num_comments', 'score']))\n",
    "#df = pd.DataFrame(posts)\n",
    "#df = df[df['num_comments']>1]"
   ]
  },
  {
   "cell_type": "code",
   "execution_count": 6,
   "id": "0f84ab62",
   "metadata": {},
   "outputs": [
    {
     "name": "stdout",
     "output_type": "stream",
     "text": [
      "Index(['created_utc', 'id', 'num_comments', 'score', 'url', 'created', 'd_'], dtype='object')\n"
     ]
    },
    {
     "data": {
      "text/plain": [
       "(28165, 7)"
      ]
     },
     "execution_count": 6,
     "metadata": {},
     "output_type": "execute_result"
    }
   ],
   "source": [
    "print(df.columns)\n",
    "df.shape"
   ]
  },
  {
   "cell_type": "code",
   "execution_count": 7,
   "id": "f6438a5d",
   "metadata": {},
   "outputs": [],
   "source": [
    "df.to_csv(\"Data/pushshift_first_quarter.csv\")"
   ]
  }
 ],
 "metadata": {
  "kernelspec": {
   "display_name": "Python 3",
   "language": "python",
   "name": "python3"
  },
  "language_info": {
   "codemirror_mode": {
    "name": "ipython",
    "version": 3
   },
   "file_extension": ".py",
   "mimetype": "text/x-python",
   "name": "python",
   "nbconvert_exporter": "python",
   "pygments_lexer": "ipython3",
   "version": "3.8.8"
  }
 },
 "nbformat": 4,
 "nbformat_minor": 5
}
