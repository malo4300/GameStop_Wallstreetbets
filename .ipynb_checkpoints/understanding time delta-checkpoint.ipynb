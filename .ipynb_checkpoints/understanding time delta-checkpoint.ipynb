{
 "cells": [
  {
   "cell_type": "code",
   "execution_count": 2,
   "id": "a05f3eaa",
   "metadata": {},
   "outputs": [],
   "source": [
    "import datetime as dt"
   ]
  },
  {
   "cell_type": "code",
   "execution_count": 4,
   "id": "60f75073",
   "metadata": {},
   "outputs": [
    {
     "data": {
      "text/plain": [
       "1609455600.0"
      ]
     },
     "execution_count": 4,
     "metadata": {},
     "output_type": "execute_result"
    }
   ],
   "source": [
    "dt.datetime(2021,1,1).timestamp()"
   ]
  },
  {
   "cell_type": "code",
   "execution_count": 5,
   "id": "bebb77ea",
   "metadata": {},
   "outputs": [
    {
     "data": {
      "text/plain": [
       "1609542000.0"
      ]
     },
     "execution_count": 5,
     "metadata": {},
     "output_type": "execute_result"
    }
   ],
   "source": [
    "dt.datetime(2021,1,2).timestamp()"
   ]
  },
  {
   "cell_type": "code",
   "execution_count": 19,
   "id": "d1beb9c0",
   "metadata": {},
   "outputs": [],
   "source": [
    "time_onj = dt.datetime(2021,1,1)+dt.timedelta(days  = 1)"
   ]
  },
  {
   "cell_type": "code",
   "execution_count": 20,
   "id": "af4d77af",
   "metadata": {},
   "outputs": [
    {
     "data": {
      "text/plain": [
       "1609542000.0"
      ]
     },
     "execution_count": 20,
     "metadata": {},
     "output_type": "execute_result"
    }
   ],
   "source": [
    "time_onj.timestamp()"
   ]
  }
 ],
 "metadata": {
  "kernelspec": {
   "display_name": "Python 3 (ipykernel)",
   "language": "python",
   "name": "python3"
  },
  "language_info": {
   "codemirror_mode": {
    "name": "ipython",
    "version": 3
   },
   "file_extension": ".py",
   "mimetype": "text/x-python",
   "name": "python",
   "nbconvert_exporter": "python",
   "pygments_lexer": "ipython3",
   "version": "3.8.12"
  }
 },
 "nbformat": 4,
 "nbformat_minor": 5
}
