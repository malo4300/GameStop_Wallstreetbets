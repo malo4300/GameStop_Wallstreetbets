{
 "cells": [
  {
   "cell_type": "code",
   "execution_count": 1,
   "id": "80acac69",
   "metadata": {},
   "outputs": [],
   "source": [
    "import requests\n",
    "import pandas as pd\n",
    "from datetime import datetime\n",
    "\n"
   ]
  },
  {
   "cell_type": "code",
   "execution_count": 73,
   "id": "8ef2a6ca",
   "metadata": {},
   "outputs": [],
   "source": [
    "# note that CLIENT_ID refers to 'personal use script' and SECRET_TOKEN to 'token'\n",
    "auth = requests.auth.HTTPBasicAuth('OUL6NnDHxgCfHHWTP0ihKA', 'PffBSo7dytKUe585QeQ30EZYQIQZWA')\n",
    "\n",
    "# here we pass our login method (password), username, and password\n",
    "data = {'grant_type': 'password',\n",
    "        'username': 'malo4300',\n",
    "        'password': 'bauer2000'}\n",
    "\n",
    "# setup our header info, which gives reddit a brief description of our app\n",
    "headers = {'User-Agent': 'mein_bot'}\n",
    "\n",
    "# send our request for an OAuth token\n",
    "res = requests.post('https://www.reddit.com/api/v1/access_token',\n",
    "                    auth=auth, data=data, headers=headers)\n",
    "\n"
   ]
  },
  {
   "cell_type": "code",
   "execution_count": 74,
   "id": "5b1920eb",
   "metadata": {},
   "outputs": [
    {
     "data": {
      "text/plain": [
       "<Response [200]>"
      ]
     },
     "execution_count": 74,
     "metadata": {},
     "output_type": "execute_result"
    }
   ],
   "source": [
    "# convert response to JSON and pull access_token value\n",
    "TOKEN = res.json()['access_token']\n",
    "\n",
    "# add authorization to our headers dictionary\n",
    "headers = {**headers, **{'Authorization': f\"bearer {TOKEN}\"}}\n",
    "\n",
    "# while the token is valid (~2 hours) we just add headers=headers to our request\n",
    "requests.get('https://oauth.reddit.com/api/v1/me', headers=headers)"
   ]
  },
  {
   "cell_type": "code",
   "execution_count": 105,
   "id": "ebe8add0",
   "metadata": {},
   "outputs": [],
   "source": [
    "names = list(res.json()['data']['children'][1]['data'].keys()) # namen der variablen\n",
    "# loop through each post retrieved from GET request\n",
    "   \n",
    "    "
   ]
  },
  {
   "cell_type": "code",
   "execution_count": 53,
   "id": "15dc77f8",
   "metadata": {},
   "outputs": [],
   "source": [
    "def df_from_response(input):\n",
    "    df = pd.DataFrame()\n",
    "    for post in input.json()['data']['children']:\n",
    "    # append relevant data to dataframe\n",
    "    #nur GME\n",
    "        #if('GME' in post['data']['title'].upper()):\n",
    "        df = df.append({\n",
    "        'title': post['data']['title'],\n",
    "        'score': post['data']['score'],\n",
    "        'url' : post['data']['url']\n",
    "        }, ignore_index=True)\n",
    "        #else:\n",
    "            #continue\n",
    "    \n",
    "    return df\n",
    "    \n"
   ]
  },
  {
   "cell_type": "code",
   "execution_count": 23,
   "id": "eb47f4b6",
   "metadata": {},
   "outputs": [],
   "source": [
    "data = pd.DataFrame()\n",
    "params = {'limit': 100}"
   ]
  },
  {
   "cell_type": "code",
   "execution_count": 89,
   "id": "38768e4b",
   "metadata": {},
   "outputs": [
    {
     "name": "stdout",
     "output_type": "stream",
     "text": [
      "t3_svvcg5\n",
      "t3_sv5eem\n",
      "t3_sugwgr\n",
      "t3_stsln5\n",
      "t3_ssiwpe\n",
      "t3_sqwk1y\n",
      "t3_sq7cht\n",
      "t3_spb89v\n",
      "t3_so3u78\n",
      "t3_snwsih\n"
     ]
    },
    {
     "ename": "IndexError",
     "evalue": "list index out of range",
     "output_type": "error",
     "traceback": [
      "\u001b[1;31m---------------------------------------------------------------------------\u001b[0m",
      "\u001b[1;31mIndexError\u001b[0m                                Traceback (most recent call last)",
      "\u001b[1;32m~\\AppData\\Local\\Temp/ipykernel_12460/443968099.py\u001b[0m in \u001b[0;36m<module>\u001b[1;34m\u001b[0m\n\u001b[0;32m      7\u001b[0m \u001b[1;33m\u001b[0m\u001b[0m\n\u001b[0;32m      8\u001b[0m     \u001b[0mnew_df\u001b[0m \u001b[1;33m=\u001b[0m \u001b[0mdf_from_response\u001b[0m\u001b[1;33m(\u001b[0m\u001b[0mres\u001b[0m\u001b[1;33m)\u001b[0m\u001b[1;33m\u001b[0m\u001b[1;33m\u001b[0m\u001b[0m\n\u001b[1;32m----> 9\u001b[1;33m     \u001b[0mlast_post\u001b[0m \u001b[1;33m=\u001b[0m \u001b[0mres\u001b[0m\u001b[1;33m.\u001b[0m\u001b[0mjson\u001b[0m\u001b[1;33m(\u001b[0m\u001b[1;33m)\u001b[0m\u001b[1;33m[\u001b[0m\u001b[1;34m'data'\u001b[0m\u001b[1;33m]\u001b[0m\u001b[1;33m[\u001b[0m\u001b[1;34m'children'\u001b[0m\u001b[1;33m]\u001b[0m\u001b[1;33m[\u001b[0m\u001b[1;33m-\u001b[0m\u001b[1;36m1\u001b[0m\u001b[1;33m]\u001b[0m\u001b[1;33m\u001b[0m\u001b[1;33m\u001b[0m\u001b[0m\n\u001b[0m\u001b[0;32m     10\u001b[0m     \u001b[0mfull_name\u001b[0m \u001b[1;33m=\u001b[0m \u001b[0mlast_post\u001b[0m\u001b[1;33m[\u001b[0m\u001b[1;34m'kind'\u001b[0m\u001b[1;33m]\u001b[0m\u001b[1;33m+\u001b[0m \u001b[1;34m'_'\u001b[0m \u001b[1;33m+\u001b[0m  \u001b[0mlast_post\u001b[0m\u001b[1;33m[\u001b[0m\u001b[1;34m'data'\u001b[0m\u001b[1;33m]\u001b[0m\u001b[1;33m[\u001b[0m\u001b[1;34m'id'\u001b[0m\u001b[1;33m]\u001b[0m\u001b[1;33m\u001b[0m\u001b[1;33m\u001b[0m\u001b[0m\n\u001b[0;32m     11\u001b[0m     \u001b[0mprint\u001b[0m\u001b[1;33m(\u001b[0m\u001b[0mfull_name\u001b[0m\u001b[1;33m)\u001b[0m\u001b[1;33m\u001b[0m\u001b[1;33m\u001b[0m\u001b[0m\n",
      "\u001b[1;31mIndexError\u001b[0m: list index out of range"
     ]
    }
   ],
   "source": [
    "params['after'] = 't3_snwsih'\n",
    "for i in range(11):\n",
    "    res = requests.get(\"https://oauth.reddit.com/r/wallstreetbets/new\",\n",
    "                   headers=headers,\n",
    "                    params = params)\n",
    "    \n",
    "    new_df = df_from_response(res)\n",
    "    last_post = res.json()['data']['children'][-1]\n",
    "    full_name = last_post['kind']+ '_' +  last_post['data']['id']\n",
    "    print(full_name)\n",
    "    params['after'] = full_name\n",
    "    \n",
    "    data = data.append(new_df, ignore_index=True)\n",
    "    "
   ]
  },
  {
   "cell_type": "code",
   "execution_count": 83,
   "id": "15a2ac39",
   "metadata": {},
   "outputs": [
    {
     "data": {
      "text/plain": [
       "{'kind': 'Listing',\n",
       " 'data': {'after': None,\n",
       "  'dist': 0,\n",
       "  'modhash': None,\n",
       "  'geo_filter': '',\n",
       "  'children': [],\n",
       "  'before': None}}"
      ]
     },
     "execution_count": 83,
     "metadata": {},
     "output_type": "execute_result"
    }
   ],
   "source": [
    "res.json()"
   ]
  },
  {
   "cell_type": "code",
   "execution_count": 68,
   "id": "13357188",
   "metadata": {},
   "outputs": [],
   "source": [
    "data.to_csv(path_or_buf = 'py_data.csv' , index = True,  header = True)"
   ]
  }
 ],
 "metadata": {
  "kernelspec": {
   "display_name": "Python 3 (ipykernel)",
   "language": "python",
   "name": "python3"
  },
  "language_info": {
   "codemirror_mode": {
    "name": "ipython",
    "version": 3
   },
   "file_extension": ".py",
   "mimetype": "text/x-python",
   "name": "python",
   "nbconvert_exporter": "python",
   "pygments_lexer": "ipython3",
   "version": "3.8.12"
  }
 },
 "nbformat": 4,
 "nbformat_minor": 5
}
