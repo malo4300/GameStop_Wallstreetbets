{
 "cells": [
  {
   "cell_type": "code",
   "execution_count": 176,
   "id": "440c54ba",
   "metadata": {},
   "outputs": [],
   "source": [
    "from psaw import PushshiftAPI \n",
    "import datetime as dt\n",
    "import pandas as pd\n",
    "import time"
   ]
  },
  {
   "cell_type": "code",
   "execution_count": 177,
   "id": "d86dfdaa",
   "metadata": {},
   "outputs": [],
   "source": [
    "api = PushshiftAPI()"
   ]
  },
  {
   "cell_type": "code",
   "execution_count": null,
   "id": "1f11eb8f",
   "metadata": {},
   "outputs": [],
   "source": []
  },
  {
   "cell_type": "code",
   "execution_count": null,
   "id": "a8b72e3e",
   "metadata": {},
   "outputs": [
    {
     "name": "stdout",
     "output_type": "stream",
     "text": [
      "0\n",
      "1\n",
      "2\n",
      "3\n",
      "4\n",
      "5\n",
      "6\n",
      "7\n",
      "8\n",
      "9\n",
      "10\n",
      "11\n",
      "12\n",
      "13\n",
      "14\n",
      "15\n",
      "16\n",
      "17\n",
      "18\n",
      "19\n",
      "20\n",
      "21\n",
      "22\n",
      "23\n",
      "24\n",
      "25\n",
      "26\n",
      "27\n",
      "28\n",
      "29\n",
      "30\n",
      "31\n",
      "32\n",
      "33\n"
     ]
    }
   ],
   "source": [
    "df = pd.DataFrame()\n",
    "\n",
    "for i in range(0,180):\n",
    "    dt_1 = dt.datetime(2021,1,1)+dt.timedelta(days  = i+1)\n",
    "    dt_2 = dt.datetime(2021,1,1)+dt.timedelta(days  = i+2)\n",
    "    posts = list(api.search_submissions(subreddit = 'wallstreetbets',\n",
    "                                        q = 'GME',\n",
    "                                        num_comments = '<25' ,\n",
    "                                        after = dt_1,\n",
    "                                        before = dt_2,\n",
    "                                        filter = ['id', 'url', 'num_comments', 'score'],\n",
    "                                        limit = 150,\n",
    "                                       )) #limit entfernt\n",
    "    if(not posts):\n",
    "        print(\"leer\")\n",
    "        continue\n",
    "    df_temp = pd.DataFrame(posts)\n",
    "    df = df.append(df_temp)\n",
    "    print(i)\n",
    "    time.sleep(2)\n",
    "    \n"
   ]
  },
  {
   "cell_type": "code",
   "execution_count": 172,
   "id": "13fe9883",
   "metadata": {},
   "outputs": [],
   "source": [
    "df = df[df['num_comments']>2]"
   ]
  },
  {
   "cell_type": "code",
   "execution_count": 162,
   "id": "e3772170",
   "metadata": {},
   "outputs": [],
   "source": [
    "#posts = list(api.search_submissions(subreddit = 'wallstreetbets',\n",
    "#                                    q = 'GME',\n",
    "#                                    after = int(dt.datetime(2021,1,1).timestamp()),\n",
    "#                                    before = int(dt.datetime(2021,1,31).timestamp()), \n",
    "#                                    filter = ['id', 'url', 'num_comments', 'score']))\n",
    "#df = pd.DataFrame(posts)\n",
    "#df = df[df['num_comments']>1]"
   ]
  },
  {
   "cell_type": "code",
   "execution_count": 173,
   "id": "b3806719",
   "metadata": {},
   "outputs": [
    {
     "name": "stdout",
     "output_type": "stream",
     "text": [
      "Index(['created_utc', 'id', 'num_comments', 'score', 'url', 'created', 'd_'], dtype='object')\n"
     ]
    },
    {
     "data": {
      "text/plain": [
       "(711, 7)"
      ]
     },
     "execution_count": 173,
     "metadata": {},
     "output_type": "execute_result"
    }
   ],
   "source": [
    "print(df.columns)\n",
    "df.shape"
   ]
  },
  {
   "cell_type": "code",
   "execution_count": 174,
   "id": "f6438a5d",
   "metadata": {},
   "outputs": [],
   "source": [
    "df.to_csv(\"pushshift.csv\")"
   ]
  }
 ],
 "metadata": {
  "kernelspec": {
   "display_name": "Python 3 (ipykernel)",
   "language": "python",
   "name": "python3"
  },
  "language_info": {
   "codemirror_mode": {
    "name": "ipython",
    "version": 3
   },
   "file_extension": ".py",
   "mimetype": "text/x-python",
   "name": "python",
   "nbconvert_exporter": "python",
   "pygments_lexer": "ipython3",
   "version": "3.8.12"
  }
 },
 "nbformat": 4,
 "nbformat_minor": 5
}
